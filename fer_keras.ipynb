{
 "cells": [
  {
   "cell_type": "code",
   "execution_count": 1,
   "metadata": {},
   "outputs": [
    {
     "name": "stderr",
     "output_type": "stream",
     "text": [
      "Using TensorFlow backend.\n"
     ]
    }
   ],
   "source": [
    "import scipy as sp\n",
    "import numpy as np\n",
    "import keras\n",
    "import os\n",
    "import csv\n",
    "from sklearn.model_selection import train_test_split\n",
    "from keras.models import Sequential\n",
    "from keras.layers import Conv2D, MaxPooling2D\n",
    "from keras.layers import Activation, Dropout, Flatten, Dense"
   ]
  },
  {
   "cell_type": "code",
   "execution_count": 2,
   "metadata": {
    "collapsed": true
   },
   "outputs": [],
   "source": [
    "def preprocess(X):\n",
    "    # X_centered = X = np.mean(X, axis=1)\n",
    "    X_normalized = np.divide(X, 255)\n",
    "    return X_normalized\n",
    "\n",
    "\n",
    "def load_data(path, expect_labels=True):\n",
    "    assert path.endswith('.csv')\n",
    "    # If a previous call to this method has already converted\n",
    "    # the data to numpy format, load the numpy directly\n",
    "    X_path = path[:-4] + '.X.npy'\n",
    "    Y_path = path[:-4] + '.Y.npy'\n",
    "    if os.path.exists(X_path):\n",
    "        X = np.load(X_path)\n",
    "        if expect_labels:\n",
    "            y = np.load(Y_path)\n",
    "        else:\n",
    "            y = None\n",
    "        return preprocess(X), y\n",
    "\n",
    "    # Convert the .csv file to numpy\n",
    "    csv_file = open(path, 'r')\n",
    "\n",
    "    reader = csv.reader(csv_file)\n",
    "\n",
    "    # Discard header\n",
    "    row = next(reader)\n",
    "\n",
    "    y_list = []\n",
    "    X_list = []\n",
    "\n",
    "    for row in reader:\n",
    "        if expect_labels:\n",
    "            y_str, X_row_str = (row[0], row[1])\n",
    "            y = int(y_str)\n",
    "            assert 0 <= y <= 6\n",
    "            y_list.append(np.eye(7)[y])\n",
    "        else:\n",
    "            X_row_str = row[1]\n",
    "        X_row_strs = X_row_str.split(' ')\n",
    "        X_row = [float(x) for x in X_row_strs]\n",
    "        X_list.append(X_row)\n",
    "\n",
    "    X = np.asarray(X_list).astype('float32')\n",
    "    if expect_labels:\n",
    "        y = np.asarray(y_list)\n",
    "    else:\n",
    "        y = None"
   ]
  },
  {
   "cell_type": "code",
   "execution_count": 3,
   "metadata": {},
   "outputs": [],
   "source": [
    "model = Sequential()\n",
    "model.add(Conv2D(32, (5, 5), input_shape=(48, 48, 1)))\n",
    "model.add(Activation('relu'))\n",
    "model.add(MaxPooling2D(pool_size=(2, 2)))\n",
    "\n",
    "model.add(Conv2D(64, (5, 5)))\n",
    "model.add(Activation('relu'))\n",
    "model.add(MaxPooling2D(pool_size=(2, 2)))\n",
    "\n",
    "model.add(Conv2D(128, (5, 5)))\n",
    "model.add(Activation('relu'))\n",
    "model.add(MaxPooling2D(pool_size=(2, 2)))\n",
    "\n",
    "# flatter for fully-connected layer\n",
    "model.add(Flatten())\n",
    "model.add(Dense(512))\n",
    "model.add(Activation('relu'))\n",
    "model.add(Dropout(0.5))\n",
    "model.add(Dense(7))\n",
    "model.add(Activation('softmax'))"
   ]
  },
  {
   "cell_type": "code",
   "execution_count": 4,
   "metadata": {},
   "outputs": [],
   "source": [
    "model.compile(loss='binary_crossentropy', optimizer='adam',\n",
    "              metrics=['accuracy'])"
   ]
  },
  {
   "cell_type": "code",
   "execution_count": 5,
   "metadata": {},
   "outputs": [],
   "source": [
    "emotion_dict = { 0: 'Angry', 1: 'Disgust', 2: 'Fear', 3: 'Happy', \n",
    "                4: 'Sad', 5: 'Surprise', 6: 'Neutral'}\n",
    "\n",
    "X_all, Y_all = load_data('./data/fer2013/fer2013.csv')\n",
    "assert len(X_all) == len(Y_all)\n",
    "assert X_all is not None and Y_all is not None\n",
    "\n",
    "X_train, X_test, y_train, y_test = train_test_split(X_all, Y_all,\n",
    "                                                    test_size=0.33,\n",
    "                                                    random_state=42)"
   ]
  },
  {
   "cell_type": "code",
   "execution_count": 6,
   "metadata": {
    "collapsed": true
   },
   "outputs": [],
   "source": [
    "alpha = 0.0001\n",
    "epochs = 10\n",
    "batch_size = 128"
   ]
  },
  {
   "cell_type": "code",
   "execution_count": 8,
   "metadata": {},
   "outputs": [
    {
     "ename": "NameError",
     "evalue": "name 'train_datagen' is not defined",
     "output_type": "error",
     "traceback": [
      "\u001b[0;31m---------------------------------------------------------------------------\u001b[0m",
      "\u001b[0;31mNameError\u001b[0m                                 Traceback (most recent call last)",
      "\u001b[0;32m<ipython-input-8-c62c4b379c5b>\u001b[0m in \u001b[0;36m<module>\u001b[0;34m()\u001b[0m\n\u001b[0;32m----> 1\u001b[0;31m train_generator = train_datagen.flow_from_directory(\n\u001b[0m\u001b[1;32m      2\u001b[0m         \u001b[0;34m'data/train'\u001b[0m\u001b[0;34m,\u001b[0m  \u001b[0;31m# this is the target directory\u001b[0m\u001b[0;34m\u001b[0m\u001b[0m\n\u001b[1;32m      3\u001b[0m         \u001b[0mtarget_size\u001b[0m\u001b[0;34m=\u001b[0m\u001b[0;34m(\u001b[0m\u001b[0;36m150\u001b[0m\u001b[0;34m,\u001b[0m \u001b[0;36m150\u001b[0m\u001b[0;34m)\u001b[0m\u001b[0;34m,\u001b[0m  \u001b[0;31m# all images will be resized to 150x150\u001b[0m\u001b[0;34m\u001b[0m\u001b[0m\n\u001b[1;32m      4\u001b[0m         \u001b[0mbatch_size\u001b[0m\u001b[0;34m=\u001b[0m\u001b[0mbatch_size\u001b[0m\u001b[0;34m,\u001b[0m\u001b[0;34m\u001b[0m\u001b[0m\n\u001b[1;32m      5\u001b[0m         class_mode='binary')  # since we use binary_crossentropy loss, we need binary labels\n",
      "\u001b[0;31mNameError\u001b[0m: name 'train_datagen' is not defined"
     ]
    }
   ],
   "source": [
    "train_generator = train_datagen.flow_from_directory(\n",
    "        'data/train',  # this is the target directory\n",
    "        target_size=(150, 150),  # all images will be resized to 150x150\n",
    "        batch_size=batch_size,\n",
    "        class_mode='binary')  # since we use binary_crossentropy loss, we need binary labels\n",
    "model.fit(x_train, y_train)"
   ]
  },
  {
   "cell_type": "code",
   "execution_count": null,
   "metadata": {
    "collapsed": true
   },
   "outputs": [],
   "source": [
    "model.save_weights('first_try.h5')"
   ]
  }
 ],
 "metadata": {
  "kernelspec": {
   "display_name": "Python 3",
   "language": "python",
   "name": "python3"
  },
  "language_info": {
   "codemirror_mode": {
    "name": "ipython",
    "version": 3
   },
   "file_extension": ".py",
   "mimetype": "text/x-python",
   "name": "python",
   "nbconvert_exporter": "python",
   "pygments_lexer": "ipython3",
   "version": "3.5.2"
  }
 },
 "nbformat": 4,
 "nbformat_minor": 2
}
