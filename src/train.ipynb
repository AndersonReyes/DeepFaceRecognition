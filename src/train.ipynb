{
 "cells": [
  {
   "cell_type": "code",
   "execution_count": 1,
   "metadata": {},
   "outputs": [],
   "source": [
    "import tensorflow as tf\n",
    "import numpy as np\n",
    "import matplotlib.pyplot as plt\n",
    "import csv\n",
    "import os\n",
    "from load_data import load_data"
   ]
  },
  {
   "cell_type": "markdown",
   "metadata": {},
   "source": [
    "# Data loading"
   ]
  },
  {
   "cell_type": "code",
   "execution_count": 2,
   "metadata": {},
   "outputs": [],
   "source": [
    "emotion_dict = {0: 'Angry', 1: 'Disgust', 2: 'Fear', 3: 'Happy', \n",
    "                4: 'Sad', 5: 'Surprise', 6: 'Neutral'}\n",
    "\n",
    "X_all, Y_all = load_data('../data/fer2013.csv')\n",
    "assert len(X_all) == len(Y_all)\n",
    "\n",
    "# save 20% for testing\n",
    "test_start = int(.80 * len(X_all))\n",
    "X_train, Y_train = X_all[:test_start, :], Y_all[:test_start, :]\n",
    "X_test, Y_test = X_all[test_start:, :], Y_all[test_start:, :]"
   ]
  },
  {
   "cell_type": "markdown",
   "metadata": {},
   "source": [
    "# Parameters"
   ]
  },
  {
   "cell_type": "code",
   "execution_count": 3,
   "metadata": {},
   "outputs": [],
   "source": [
    "alpha = 0.0001\n",
    "epochs = 70\n",
    "batch_size = 256"
   ]
  },
  {
   "cell_type": "markdown",
   "metadata": {},
   "source": [
    "# Network Architecture"
   ]
  },
  {
   "cell_type": "code",
   "execution_count": 8,
   "metadata": {},
   "outputs": [],
   "source": [
    "tf.reset_default_graph()\n",
    "\n",
    "#INPUT\n",
    "input = tf.placeholder(dtype=tf.float32, shape=[None, 2304], name='Input')\n",
    "input_shaped = tf.reshape(input, [-1, 48, 48, 1])\n",
    "y = tf.placeholder(dtype=tf.float32, shape=[None, 7], name='Output')\n",
    "\n",
    "#  ARCHITECTURE\n",
    "layer1 = tf.layers.conv2d(input_shaped, filters=64, kernel_size=[5, 5],  padding='same', activation=tf.nn.relu, name='l1_conv2d')\n",
    "layer1 = tf.layers.max_pooling2d(layer1, pool_size=[2, 2], strides=2, name='l1_maxpool')\n",
    "layer1 = tf.layers.dropout(layer1, rate=0.5, name='l1_dropout')\n",
    "\n",
    "layer2 = tf.layers.conv2d(layer1, filters=64, kernel_size=[5, 5], padding='same', activation=tf.nn.relu, name='l2_conv2d')\n",
    "layer2 = tf.layers.max_pooling2d(layer2, pool_size=[2, 2], strides=2, name='l2_maxpool')\n",
    "layer2 = tf.layers.dropout(layer2, rate=0.5, name='l2_dropout')\n",
    "\n",
    "layer3 = tf.layers.conv2d(layer2, filters=64, kernel_size=[5, 5], padding='same', activation=tf.nn.relu, name='l3_conv2d')\n",
    "layer3 = tf.layers.max_pooling2d(layer3, pool_size=[2, 2], strides=2, name='l3_maxpool')\n",
    "layer3 = tf.layers.dropout(layer1, rate=0.5, name='l3_dropout')\n",
    "\n",
    "layer4 = tf.layers.conv2d(layer3, filters=128, kernel_size=[5, 5], padding='same', activation=tf.nn.relu, name='l4_conv2d')\n",
    "layer4 = tf.layers.max_pooling2d(layer4, pool_size=[2, 2], strides=2, name='l4_maxpool')\n",
    "layer4 = tf.layers.dropout(layer4, rate=0.5, name='l4_dropout')\n",
    "\n",
    "layer5 = tf.layers.conv2d(layer4, filters=128, kernel_size=[5, 5], padding='same', activation=tf.nn.relu, name='l5_conv2d')\n",
    "layer5 = tf.layers.max_pooling2d(layer5, pool_size=[2, 2], strides=2, name='l5_maxpool')\n",
    "layer5 = tf.layers.dropout(layer5, rate=0.5, name='l5_dropout')\n",
    "\n",
    "\n",
    "flattened = tf.reshape(layer5, [-1, 6 * 6 * 128], name='flattened')\n",
    "dense1024 = tf.layers.dense(flattened, units=1024, activation=tf.nn.relu, name='l6_dense_1024')\n",
    "dropout = tf.layers.dropout(dense1024, rate=0.5, name='l6_dropout')\n",
    "dense512 = tf.layers.dense(dropout, units=512, activation=tf.nn.relu, name='l7_dense_512')\n",
    "dropout2 = tf.layers.dropout(dense512, rate=0.5, name='l7_dropout2')\n",
    "logits = tf.layers.dense(dropout2, units=7, name='l8_dense_7')\n",
    "\n",
    "probs = tf.nn.softmax(logits, name='y_softmax')\n",
    "y_predict = tf.argmax(probs, axis=1, name='y_predict')\n",
    "y_true = tf.argmax(y, axis=1, name='y_true')\n",
    "\n",
    "entropy_cost = tf.reduce_mean(tf.nn.softmax_cross_entropy_with_logits(logits=logits, labels=y))\n",
    "optimiser = tf.train.AdamOptimizer(learning_rate=alpha).minimize(entropy_cost)\n",
    "correct_prediction = tf.equal(y_true, y_predict)\n",
    "accurary = tf.reduce_mean(tf.cast(correct_prediction, tf.float32))"
   ]
  },
  {
   "cell_type": "markdown",
   "metadata": {},
   "source": [
    "# Training Loop"
   ]
  },
  {
   "cell_type": "code",
   "execution_count": 9,
   "metadata": {},
   "outputs": [
    {
     "name": "stdout",
     "output_type": "stream",
     "text": [
      "\n",
      "Epoch:1 cost = 1.792 test accuracy: 0.326\n",
      "\n",
      "Epoch:2 cost = 1.608 test accuracy: 0.404\n",
      "\n",
      "Epoch:3 cost = 1.494 test accuracy: 0.440\n",
      "\n",
      "Epoch:4 cost = 1.411 test accuracy: 0.466\n",
      "\n",
      "Epoch:5 cost = 1.344 test accuracy: 0.480\n",
      "\n",
      "Epoch:6 cost = 1.282 test accuracy: 0.494\n",
      "\n",
      "Epoch:7 cost = 1.223 test accuracy: 0.508\n",
      "\n",
      "Epoch:8 cost = 1.165 test accuracy: 0.514\n",
      "\n",
      "Epoch:9 cost = 1.103 test accuracy: 0.523\n",
      "\n",
      "Epoch:10 cost = 1.043 test accuracy: 0.525\n",
      "\n",
      "Epoch:11 cost = 0.982 test accuracy: 0.528\n",
      "\n",
      "Epoch:12 cost = 0.920 test accuracy: 0.529\n",
      "\n",
      "Epoch:13 cost = 0.858 test accuracy: 0.533\n",
      "\n",
      "Epoch:14 cost = 0.800 test accuracy: 0.535\n",
      "\n",
      "Epoch:15 cost = 0.774 test accuracy: 0.507\n",
      "\n",
      "Epoch:16 cost = 0.724 test accuracy: 0.512\n",
      "\n",
      "Epoch:17 cost = 0.666 test accuracy: 0.523\n",
      "\n",
      "Epoch:18 cost = 0.628 test accuracy: 0.534\n",
      "\n",
      "Epoch:19 cost = 0.575 test accuracy: 0.552\n",
      "\n",
      "Epoch:20 cost = 0.517 test accuracy: 0.542\n",
      "\n",
      "Epoch:21 cost = 0.461 test accuracy: 0.520\n",
      "\n",
      "Epoch:22 cost = 0.451 test accuracy: 0.536\n",
      "\n",
      "Epoch:23 cost = 0.441 test accuracy: 0.529\n",
      "\n",
      "Epoch:24 cost = 0.394 test accuracy: 0.540\n",
      "\n",
      "Epoch:25 cost = 0.379 test accuracy: 0.538\n",
      "\n",
      "Epoch:26 cost = 0.375 test accuracy: 0.530\n",
      "\n",
      "Epoch:27 cost = 0.338 test accuracy: 0.524\n",
      "\n",
      "Epoch:28 cost = 0.290 test accuracy: 0.533\n",
      "\n",
      "Epoch:29 cost = 0.250 test accuracy: 0.541\n",
      "\n",
      "Epoch:30 cost = 0.257 test accuracy: 0.535\n",
      "\n",
      "Epoch:31 cost = 0.236 test accuracy: 0.547\n",
      "\n",
      "Epoch:32 cost = 0.184 test accuracy: 0.538\n",
      "\n",
      "Epoch:33 cost = 0.158 test accuracy: 0.539\n",
      "\n",
      "Epoch:34 cost = 0.157 test accuracy: 0.529\n"
     ]
    },
    {
     "ename": "KeyboardInterrupt",
     "evalue": "",
     "output_type": "error",
     "traceback": [
      "\u001b[0;31m---------------------------------------------------------------------------\u001b[0m",
      "\u001b[0;31mKeyboardInterrupt\u001b[0m                         Traceback (most recent call last)",
      "\u001b[0;32m<ipython-input-9-58991033a606>\u001b[0m in \u001b[0;36m<module>\u001b[0;34m()\u001b[0m\n\u001b[1;32m     21\u001b[0m             \u001b[0mbatch_x\u001b[0m \u001b[0;34m=\u001b[0m \u001b[0mX_train\u001b[0m\u001b[0;34m[\u001b[0m\u001b[0midx\u001b[0m\u001b[0;34m:\u001b[0m \u001b[0midx\u001b[0m \u001b[0;34m+\u001b[0m \u001b[0mbatch_size\u001b[0m\u001b[0;34m]\u001b[0m\u001b[0;34m\u001b[0m\u001b[0m\n\u001b[1;32m     22\u001b[0m             \u001b[0mbatch_y\u001b[0m \u001b[0;34m=\u001b[0m \u001b[0mY_train\u001b[0m\u001b[0;34m[\u001b[0m\u001b[0midx\u001b[0m\u001b[0;34m:\u001b[0m \u001b[0midx\u001b[0m \u001b[0;34m+\u001b[0m \u001b[0mbatch_size\u001b[0m\u001b[0;34m]\u001b[0m\u001b[0;34m\u001b[0m\u001b[0m\n\u001b[0;32m---> 23\u001b[0;31m             \u001b[0m_\u001b[0m\u001b[0;34m,\u001b[0m \u001b[0mresult\u001b[0m \u001b[0;34m=\u001b[0m \u001b[0msess\u001b[0m\u001b[0;34m.\u001b[0m\u001b[0mrun\u001b[0m\u001b[0;34m(\u001b[0m\u001b[0;34m[\u001b[0m\u001b[0moptimiser\u001b[0m\u001b[0;34m,\u001b[0m \u001b[0mentropy_cost\u001b[0m\u001b[0;34m]\u001b[0m\u001b[0;34m,\u001b[0m \u001b[0mfeed_dict\u001b[0m\u001b[0;34m=\u001b[0m\u001b[0;34m{\u001b[0m\u001b[0minput\u001b[0m\u001b[0;34m:\u001b[0m \u001b[0mbatch_x\u001b[0m\u001b[0;34m,\u001b[0m \u001b[0my\u001b[0m\u001b[0;34m:\u001b[0m \u001b[0mbatch_y\u001b[0m\u001b[0;34m}\u001b[0m\u001b[0;34m)\u001b[0m\u001b[0;34m\u001b[0m\u001b[0m\n\u001b[0m\u001b[1;32m     24\u001b[0m             \u001b[0mavg_cost\u001b[0m \u001b[0;34m+=\u001b[0m \u001b[0mresult\u001b[0m \u001b[0;34m/\u001b[0m \u001b[0mn_batches\u001b[0m\u001b[0;34m\u001b[0m\u001b[0m\n\u001b[1;32m     25\u001b[0m \u001b[0;34m\u001b[0m\u001b[0m\n",
      "\u001b[0;32m/home/codas/anaconda3/lib/python3.6/site-packages/tensorflow/python/client/session.py\u001b[0m in \u001b[0;36mrun\u001b[0;34m(self, fetches, feed_dict, options, run_metadata)\u001b[0m\n\u001b[1;32m    893\u001b[0m     \u001b[0;32mtry\u001b[0m\u001b[0;34m:\u001b[0m\u001b[0;34m\u001b[0m\u001b[0m\n\u001b[1;32m    894\u001b[0m       result = self._run(None, fetches, feed_dict, options_ptr,\n\u001b[0;32m--> 895\u001b[0;31m                          run_metadata_ptr)\n\u001b[0m\u001b[1;32m    896\u001b[0m       \u001b[0;32mif\u001b[0m \u001b[0mrun_metadata\u001b[0m\u001b[0;34m:\u001b[0m\u001b[0;34m\u001b[0m\u001b[0m\n\u001b[1;32m    897\u001b[0m         \u001b[0mproto_data\u001b[0m \u001b[0;34m=\u001b[0m \u001b[0mtf_session\u001b[0m\u001b[0;34m.\u001b[0m\u001b[0mTF_GetBuffer\u001b[0m\u001b[0;34m(\u001b[0m\u001b[0mrun_metadata_ptr\u001b[0m\u001b[0;34m)\u001b[0m\u001b[0;34m\u001b[0m\u001b[0m\n",
      "\u001b[0;32m/home/codas/anaconda3/lib/python3.6/site-packages/tensorflow/python/client/session.py\u001b[0m in \u001b[0;36m_run\u001b[0;34m(self, handle, fetches, feed_dict, options, run_metadata)\u001b[0m\n\u001b[1;32m   1122\u001b[0m     \u001b[0;32mif\u001b[0m \u001b[0mfinal_fetches\u001b[0m \u001b[0;32mor\u001b[0m \u001b[0mfinal_targets\u001b[0m \u001b[0;32mor\u001b[0m \u001b[0;34m(\u001b[0m\u001b[0mhandle\u001b[0m \u001b[0;32mand\u001b[0m \u001b[0mfeed_dict_tensor\u001b[0m\u001b[0;34m)\u001b[0m\u001b[0;34m:\u001b[0m\u001b[0;34m\u001b[0m\u001b[0m\n\u001b[1;32m   1123\u001b[0m       results = self._do_run(handle, final_targets, final_fetches,\n\u001b[0;32m-> 1124\u001b[0;31m                              feed_dict_tensor, options, run_metadata)\n\u001b[0m\u001b[1;32m   1125\u001b[0m     \u001b[0;32melse\u001b[0m\u001b[0;34m:\u001b[0m\u001b[0;34m\u001b[0m\u001b[0m\n\u001b[1;32m   1126\u001b[0m       \u001b[0mresults\u001b[0m \u001b[0;34m=\u001b[0m \u001b[0;34m[\u001b[0m\u001b[0;34m]\u001b[0m\u001b[0;34m\u001b[0m\u001b[0m\n",
      "\u001b[0;32m/home/codas/anaconda3/lib/python3.6/site-packages/tensorflow/python/client/session.py\u001b[0m in \u001b[0;36m_do_run\u001b[0;34m(self, handle, target_list, fetch_list, feed_dict, options, run_metadata)\u001b[0m\n\u001b[1;32m   1319\u001b[0m     \u001b[0;32mif\u001b[0m \u001b[0mhandle\u001b[0m \u001b[0;32mis\u001b[0m \u001b[0;32mNone\u001b[0m\u001b[0;34m:\u001b[0m\u001b[0;34m\u001b[0m\u001b[0m\n\u001b[1;32m   1320\u001b[0m       return self._do_call(_run_fn, self._session, feeds, fetches, targets,\n\u001b[0;32m-> 1321\u001b[0;31m                            options, run_metadata)\n\u001b[0m\u001b[1;32m   1322\u001b[0m     \u001b[0;32melse\u001b[0m\u001b[0;34m:\u001b[0m\u001b[0;34m\u001b[0m\u001b[0m\n\u001b[1;32m   1323\u001b[0m       \u001b[0;32mreturn\u001b[0m \u001b[0mself\u001b[0m\u001b[0;34m.\u001b[0m\u001b[0m_do_call\u001b[0m\u001b[0;34m(\u001b[0m\u001b[0m_prun_fn\u001b[0m\u001b[0;34m,\u001b[0m \u001b[0mself\u001b[0m\u001b[0;34m.\u001b[0m\u001b[0m_session\u001b[0m\u001b[0;34m,\u001b[0m \u001b[0mhandle\u001b[0m\u001b[0;34m,\u001b[0m \u001b[0mfeeds\u001b[0m\u001b[0;34m,\u001b[0m \u001b[0mfetches\u001b[0m\u001b[0;34m)\u001b[0m\u001b[0;34m\u001b[0m\u001b[0m\n",
      "\u001b[0;32m/home/codas/anaconda3/lib/python3.6/site-packages/tensorflow/python/client/session.py\u001b[0m in \u001b[0;36m_do_call\u001b[0;34m(self, fn, *args)\u001b[0m\n\u001b[1;32m   1325\u001b[0m   \u001b[0;32mdef\u001b[0m \u001b[0m_do_call\u001b[0m\u001b[0;34m(\u001b[0m\u001b[0mself\u001b[0m\u001b[0;34m,\u001b[0m \u001b[0mfn\u001b[0m\u001b[0;34m,\u001b[0m \u001b[0;34m*\u001b[0m\u001b[0margs\u001b[0m\u001b[0;34m)\u001b[0m\u001b[0;34m:\u001b[0m\u001b[0;34m\u001b[0m\u001b[0m\n\u001b[1;32m   1326\u001b[0m     \u001b[0;32mtry\u001b[0m\u001b[0;34m:\u001b[0m\u001b[0;34m\u001b[0m\u001b[0m\n\u001b[0;32m-> 1327\u001b[0;31m       \u001b[0;32mreturn\u001b[0m \u001b[0mfn\u001b[0m\u001b[0;34m(\u001b[0m\u001b[0;34m*\u001b[0m\u001b[0margs\u001b[0m\u001b[0;34m)\u001b[0m\u001b[0;34m\u001b[0m\u001b[0m\n\u001b[0m\u001b[1;32m   1328\u001b[0m     \u001b[0;32mexcept\u001b[0m \u001b[0merrors\u001b[0m\u001b[0;34m.\u001b[0m\u001b[0mOpError\u001b[0m \u001b[0;32mas\u001b[0m \u001b[0me\u001b[0m\u001b[0;34m:\u001b[0m\u001b[0;34m\u001b[0m\u001b[0m\n\u001b[1;32m   1329\u001b[0m       \u001b[0mmessage\u001b[0m \u001b[0;34m=\u001b[0m \u001b[0mcompat\u001b[0m\u001b[0;34m.\u001b[0m\u001b[0mas_text\u001b[0m\u001b[0;34m(\u001b[0m\u001b[0me\u001b[0m\u001b[0;34m.\u001b[0m\u001b[0mmessage\u001b[0m\u001b[0;34m)\u001b[0m\u001b[0;34m\u001b[0m\u001b[0m\n",
      "\u001b[0;32m/home/codas/anaconda3/lib/python3.6/site-packages/tensorflow/python/client/session.py\u001b[0m in \u001b[0;36m_run_fn\u001b[0;34m(session, feed_dict, fetch_list, target_list, options, run_metadata)\u001b[0m\n\u001b[1;32m   1304\u001b[0m           return tf_session.TF_Run(session, options,\n\u001b[1;32m   1305\u001b[0m                                    \u001b[0mfeed_dict\u001b[0m\u001b[0;34m,\u001b[0m \u001b[0mfetch_list\u001b[0m\u001b[0;34m,\u001b[0m \u001b[0mtarget_list\u001b[0m\u001b[0;34m,\u001b[0m\u001b[0;34m\u001b[0m\u001b[0m\n\u001b[0;32m-> 1306\u001b[0;31m                                    status, run_metadata)\n\u001b[0m\u001b[1;32m   1307\u001b[0m \u001b[0;34m\u001b[0m\u001b[0m\n\u001b[1;32m   1308\u001b[0m     \u001b[0;32mdef\u001b[0m \u001b[0m_prun_fn\u001b[0m\u001b[0;34m(\u001b[0m\u001b[0msession\u001b[0m\u001b[0;34m,\u001b[0m \u001b[0mhandle\u001b[0m\u001b[0;34m,\u001b[0m \u001b[0mfeed_dict\u001b[0m\u001b[0;34m,\u001b[0m \u001b[0mfetch_list\u001b[0m\u001b[0;34m)\u001b[0m\u001b[0;34m:\u001b[0m\u001b[0;34m\u001b[0m\u001b[0m\n",
      "\u001b[0;31mKeyboardInterrupt\u001b[0m: "
     ]
    }
   ],
   "source": [
    "init_op = tf.global_variables_initializer()\n",
    "\n",
    "\n",
    "saver = tf.train.Saver()\n",
    "\n",
    "# write output to a file\n",
    "logging_steps = 1\n",
    "file = open('../training_steps.txt', 'w')\n",
    "\n",
    "with tf.Session() as sess:\n",
    "    sess.run(init_op)\n",
    "    writer = tf.summary.FileWriter('./../graphs', sess.graph)\n",
    "\n",
    "    n_batches = int(len(X_train) / batch_size)\n",
    "\n",
    "    for epoch in range(epochs):\n",
    "        avg_cost = 0\n",
    "\n",
    "        for i in range(n_batches):\n",
    "            idx = i * batch_size\n",
    "            batch_x = X_train[idx: idx + batch_size]\n",
    "            batch_y = Y_train[idx: idx + batch_size]\n",
    "            _, result = sess.run([optimiser, entropy_cost], feed_dict={input: batch_x, y: batch_y})\n",
    "            avg_cost += result / n_batches\n",
    "\n",
    "        test_accuracy = sess.run(accurary, feed_dict={input: X_test, y: Y_test})\n",
    "        \n",
    "        if epoch % logging_steps == 0:\n",
    "            print('\\nEpoch:' + str(epoch + 1) + ' cost = {:.3f}'.format(avg_cost) + ' test accuracy: {:.3f}'.format(test_accuracy))\n",
    "            file.write('\\nEpoch:' + str(epoch + 1) + ' cost = {:.3f}'.format(avg_cost) + ' test accuracy: {:.3f}'.format(test_accuracy))\n",
    "\n",
    "    file.write('\\nTraining Complete')\n",
    "    print('\\nTraining Complete')\n",
    "    file.write('\\naccurary: {0}\\n'.format(sess.run(accurary, feed_dict={input: X_test, y: Y_test})))\n",
    "    print('\\naccurary: {0}\\n'.format(sess.run(accurary, feed_dict={input: X_test, y: Y_test})))\n",
    "    file.close()\n",
    "    saver.save(sess, 'model-dropout-deeper')\n",
    "\n",
    "writer.close()\n"
   ]
  },
  {
   "cell_type": "code",
   "execution_count": null,
   "metadata": {},
   "outputs": [],
   "source": []
  }
 ],
 "metadata": {
  "kernelspec": {
   "display_name": "Python 3",
   "language": "python",
   "name": "python3"
  },
  "language_info": {
   "codemirror_mode": {
    "name": "ipython",
    "version": 3
   },
   "file_extension": ".py",
   "mimetype": "text/x-python",
   "name": "python",
   "nbconvert_exporter": "python",
   "pygments_lexer": "ipython3",
   "version": "3.6.1"
  }
 },
 "nbformat": 4,
 "nbformat_minor": 2
}
